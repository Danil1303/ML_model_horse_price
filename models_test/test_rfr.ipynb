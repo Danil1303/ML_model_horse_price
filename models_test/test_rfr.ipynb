{
 "cells": [
  {
   "cell_type": "code",
   "execution_count": 20,
   "metadata": {
    "pycharm": {
     "name": "#%%\n"
    },
    "colab": {
     "base_uri": "https://localhost:8080/",
     "height": 73
    },
    "id": "tPNhr0eOn3Xs",
    "outputId": "786c5b7a-2e3d-4f38-c210-f46327533994"
   },
   "outputs": [],
   "source": [
    "import os\n",
    "import numpy as np\n",
    "import pandas as pd\n",
    "from pathlib import Path\n",
    "from sklearn.metrics import mean_squared_error\n",
    "from sklearn.ensemble import RandomForestRegressor\n",
    "from sklearn.model_selection import StratifiedKFold, GridSearchCV, RandomizedSearchCV, train_test_split"
   ]
  },
  {
   "cell_type": "code",
   "execution_count": 21,
   "outputs": [
    {
     "name": "stdout",
     "output_type": "stream",
     "text": [
      "Correlation coefficients of survival from other features:\n",
      " Height                            0.274127\n",
      "Breed_Андалузская                 0.159828\n",
      "Breed_Фризская                    0.135605\n",
      "Breed_Бельгийская теплокровная    0.113083\n",
      "Breed_Ганноверская                0.112583\n",
      "                                    ...   \n",
      "Sex_Жеребец                      -0.068191\n",
      "Breed_Русский рысак              -0.073403\n",
      "Color_Пегой                      -0.100633\n",
      "Breed_Помесь пони                -0.104134\n",
      "Breed_Шетлендский пони           -0.130832\n",
      "Name: Price, Length: 73, dtype: float64\n"
     ]
    }
   ],
   "source": [
    "df = pd.read_csv(str(Path(os.path.abspath(os.curdir)).parent) + '/data/total_data.csv')\n",
    "\n",
    "# df = df[df.Price < 2000000]\n",
    "\n",
    "df = pd.get_dummies(df, columns=['Sex', 'Color', 'Breed'])\n",
    "\n",
    "train, test = train_test_split(df, test_size=0.2, random_state=42)\n",
    "\n",
    "corr_matrix = train.corr()\n",
    "print('Correlation coefficients of survival from other features:\\n',\n",
    "      corr_matrix['Price'].sort_values(ascending=False)[1:])\n",
    "\n",
    "x_train = train.drop('Price', axis=1)\n",
    "\n",
    "y_train = train['Price']"
   ],
   "metadata": {
    "pycharm": {
     "name": "#%%\n"
    },
    "colab": {
     "base_uri": "https://localhost:8080/"
    },
    "id": "XsTXKg-An3Xu",
    "outputId": "2b18bd2b-80fe-4c1b-f2b3-c7246e39fcbc"
   }
  },
  {
   "cell_type": "code",
   "execution_count": 22,
   "outputs": [
    {
     "name": "stderr",
     "output_type": "stream",
     "text": [
      "C:\\code\\ML_model_horse_price\\venv\\lib\\site-packages\\sklearn\\model_selection\\_split.py:737: UserWarning: The least populated class in y has only 1 members, which is less than n_splits=5.\n",
      "  warnings.warn(\n"
     ]
    },
    {
     "name": "stdout",
     "output_type": "stream",
     "text": [
      "RMSE случайного поиска:  521325.7269113714\n"
     ]
    }
   ],
   "source": [
    "features = list(x_train)\n",
    "rfr = RandomForestRegressor(random_state=42)\n",
    "\n",
    "random_search_params = {'bootstrap': [True, False],\n",
    "                        'criterion': ['squared_error', 'absolute_error', 'friedman_mse', 'poisson'],\n",
    "                        'max_depth': list(np.arange(1, 50)),\n",
    "                        'max_features': list(np.arange(1, len(features) + 1)),\n",
    "                        'min_samples_leaf': list(np.arange(1, 10)),\n",
    "                        'min_samples_split': list(np.arange(2, 10)),\n",
    "                        'min_weight_fraction_leaf': list(np.arange(0.0, 0.6, 0.1)),\n",
    "                        'n_estimators': list(np.arange(1, 300, 2))}\n",
    "\n",
    "random_search = RandomizedSearchCV(estimator=rfr,\n",
    "                                   param_distributions=random_search_params,\n",
    "                                   n_iter=2,\n",
    "                                   n_jobs=-1,\n",
    "                                   refit=True,\n",
    "                                   cv=StratifiedKFold(5),\n",
    "                                   random_state=42)\n",
    "\n",
    "random_search.fit(x_train, y_train)\n",
    "\n",
    "predictions = random_search.predict(x_train)\n",
    "random_search_rmse = np.sqrt(mean_squared_error(y_train, predictions))\n",
    "print('RMSE случайного поиска: ', random_search_rmse)"
   ],
   "metadata": {
    "pycharm": {
     "name": "#%%\n"
    },
    "colab": {
     "base_uri": "https://localhost:8080/"
    },
    "id": "1nR7SV4In3Xv",
    "outputId": "3665f811-7787-4973-9458-98c83223cc1c"
   }
  },
  {
   "cell_type": "code",
   "execution_count": 23,
   "outputs": [
    {
     "data": {
      "text/plain": "   mean_fit_time  std_fit_time  mean_score_time  std_score_time  \\\n0       0.135473      0.017170         0.008001        0.001094   \n1       1.836626      0.031594         0.007204        0.000982   \n\n  param_n_estimators param_min_weight_fraction_leaf param_min_samples_split  \\\n0                 85                            0.0                       9   \n1                139                            0.1                       8   \n\n  param_min_samples_leaf param_max_features param_max_depth param_criterion  \\\n0                      6                  5              47    friedman_mse   \n1                      9                 18              25  absolute_error   \n\n  param_bootstrap  split0_test_score  split1_test_score  split2_test_score  \\\n0           False           0.123578           0.184874           0.117575   \n1           False           0.017844           0.030362           0.007083   \n\n   split3_test_score  split4_test_score  mean_test_score  std_test_score  \\\n0           0.114176           0.146384         0.137317        0.026298   \n1          -0.020811           0.015598         0.010015        0.017119   \n\n   rank_test_score  \n0                1  \n1                2  ",
      "text/html": "<div>\n<style scoped>\n    .dataframe tbody tr th:only-of-type {\n        vertical-align: middle;\n    }\n\n    .dataframe tbody tr th {\n        vertical-align: top;\n    }\n\n    .dataframe thead th {\n        text-align: right;\n    }\n</style>\n<table border=\"1\" class=\"dataframe\">\n  <thead>\n    <tr style=\"text-align: right;\">\n      <th></th>\n      <th>mean_fit_time</th>\n      <th>std_fit_time</th>\n      <th>mean_score_time</th>\n      <th>std_score_time</th>\n      <th>param_n_estimators</th>\n      <th>param_min_weight_fraction_leaf</th>\n      <th>param_min_samples_split</th>\n      <th>param_min_samples_leaf</th>\n      <th>param_max_features</th>\n      <th>param_max_depth</th>\n      <th>param_criterion</th>\n      <th>param_bootstrap</th>\n      <th>split0_test_score</th>\n      <th>split1_test_score</th>\n      <th>split2_test_score</th>\n      <th>split3_test_score</th>\n      <th>split4_test_score</th>\n      <th>mean_test_score</th>\n      <th>std_test_score</th>\n      <th>rank_test_score</th>\n    </tr>\n  </thead>\n  <tbody>\n    <tr>\n      <th>0</th>\n      <td>0.135473</td>\n      <td>0.017170</td>\n      <td>0.008001</td>\n      <td>0.001094</td>\n      <td>85</td>\n      <td>0.0</td>\n      <td>9</td>\n      <td>6</td>\n      <td>5</td>\n      <td>47</td>\n      <td>friedman_mse</td>\n      <td>False</td>\n      <td>0.123578</td>\n      <td>0.184874</td>\n      <td>0.117575</td>\n      <td>0.114176</td>\n      <td>0.146384</td>\n      <td>0.137317</td>\n      <td>0.026298</td>\n      <td>1</td>\n    </tr>\n    <tr>\n      <th>1</th>\n      <td>1.836626</td>\n      <td>0.031594</td>\n      <td>0.007204</td>\n      <td>0.000982</td>\n      <td>139</td>\n      <td>0.1</td>\n      <td>8</td>\n      <td>9</td>\n      <td>18</td>\n      <td>25</td>\n      <td>absolute_error</td>\n      <td>False</td>\n      <td>0.017844</td>\n      <td>0.030362</td>\n      <td>0.007083</td>\n      <td>-0.020811</td>\n      <td>0.015598</td>\n      <td>0.010015</td>\n      <td>0.017119</td>\n      <td>2</td>\n    </tr>\n  </tbody>\n</table>\n</div>"
     },
     "execution_count": 23,
     "metadata": {},
     "output_type": "execute_result"
    }
   ],
   "source": [
    "random_search_parameters = pd.DataFrame(random_search.cv_results_).sort_values('rank_test_score').reset_index(\n",
    "    drop=True)\n",
    "random_search_parameters = random_search_parameters.drop('params', axis=1)\n",
    "random_search_parameters.head(10)"
   ],
   "metadata": {
    "pycharm": {
     "name": "#%%\n"
    },
    "colab": {
     "base_uri": "https://localhost:8080/",
     "height": 81
    },
    "id": "48cpXwhhn3Xv",
    "outputId": "54930fe4-7eb5-43fb-df39-c2ef3930501d"
   }
  },
  {
   "cell_type": "code",
   "execution_count": 24,
   "outputs": [
    {
     "data": {
      "text/plain": "{'bootstrap': [False],\n 'criterion': ['friedman_mse'],\n 'max_depth': [25, 47],\n 'max_features': [18, 5],\n 'min_samples_leaf': [9, 6],\n 'min_samples_split': [8, 9],\n 'min_weight_fraction_leaf': [0.0, 0.1],\n 'n_estimators': [139, 85]}"
     },
     "execution_count": 24,
     "metadata": {},
     "output_type": "execute_result"
    }
   ],
   "source": [
    "top_models = random_search_parameters.head(3)\n",
    "param_bootstrap = [top_models['param_bootstrap'].value_counts().idxmax()]\n",
    "param_criterion = [top_models['param_criterion'].value_counts().idxmax()]\n",
    "param_max_depth = [x for x in set(top_models['param_max_depth'])]\n",
    "param_max_features = [x for x in set(top_models['param_max_features'])]\n",
    "param_min_samples_leaf = [x for x in set(top_models['param_min_samples_leaf'])]\n",
    "param_min_samples_split = [x for x in set(top_models['param_min_samples_split'])]\n",
    "param_min_weight_fraction_leaf = [x for x in set(top_models['param_min_weight_fraction_leaf'])]\n",
    "param_n_estimators = [x for x in set(top_models['param_n_estimators'])]\n",
    "\n",
    "params_grid = {'bootstrap': param_bootstrap,\n",
    "               'criterion': param_criterion,\n",
    "               'max_depth': param_max_depth,\n",
    "               'max_features': param_max_features,\n",
    "               'min_samples_leaf': param_min_samples_leaf,\n",
    "               'min_samples_split': param_min_samples_split,\n",
    "               'min_weight_fraction_leaf': param_min_weight_fraction_leaf,\n",
    "               'n_estimators': param_n_estimators\n",
    "               }\n",
    "\n",
    "params_grid"
   ],
   "metadata": {
    "pycharm": {
     "name": "#%%\n"
    },
    "colab": {
     "base_uri": "https://localhost:8080/"
    },
    "id": "wDWlzXYQn3Xw",
    "outputId": "e5c0b43a-7017-48b3-9f9e-1b66f9b4de39"
   }
  },
  {
   "cell_type": "code",
   "execution_count": 25,
   "outputs": [
    {
     "name": "stderr",
     "output_type": "stream",
     "text": [
      "C:\\code\\ML_model_horse_price\\venv\\lib\\site-packages\\sklearn\\model_selection\\_split.py:737: UserWarning: The least populated class in y has only 1 members, which is less than n_splits=5.\n",
      "  warnings.warn(\n"
     ]
    },
    {
     "name": "stdout",
     "output_type": "stream",
     "text": [
      "RMSE решётчатого поиска:  489913.3019714717\n"
     ]
    }
   ],
   "source": [
    "rfr = RandomForestRegressor(random_state=42)\n",
    "grid_search = GridSearchCV(estimator=rfr,\n",
    "                           param_grid=params_grid,\n",
    "                           n_jobs=-1,\n",
    "                           refit=True,\n",
    "                           cv=StratifiedKFold(5)\n",
    "                           )\n",
    "grid_search.fit(x_train, y_train)\n",
    "\n",
    "predictions = grid_search.predict(x_train)\n",
    "grid_search_rmse = np.sqrt(mean_squared_error(y_train, predictions))\n",
    "print('RMSE решётчатого поиска: ', grid_search_rmse)"
   ],
   "metadata": {
    "collapsed": false,
    "pycharm": {
     "name": "#%%\n"
    }
   }
  },
  {
   "cell_type": "code",
   "execution_count": 26,
   "outputs": [
    {
     "name": "stdout",
     "output_type": "stream",
     "text": [
      "RMSE модели:  489913.3019714717\n",
      "The best hyperparameters for DecisionTreeRegressor found using grid search:\n",
      " {'bootstrap': False, 'ccp_alpha': 0.0, 'criterion': 'friedman_mse', 'max_depth': 47, 'max_features': 18, 'max_leaf_nodes': None, 'max_samples': None, 'min_impurity_decrease': 0.0, 'min_samples_leaf': 9, 'min_samples_split': 8, 'min_weight_fraction_leaf': 0.0, 'n_estimators': 85, 'n_jobs': None, 'oob_score': False, 'random_state': 42, 'verbose': 0, 'warm_start': False}\n"
     ]
    }
   ],
   "source": [
    "best_model = grid_search.best_estimator_\n",
    "train_predictions = best_model.predict(x_train)\n",
    "model_rmse = np.sqrt(mean_squared_error(y_train, train_predictions))\n",
    "print('RMSE модели: ', model_rmse)\n",
    "print('The best hyperparameters for DecisionTreeRegressor found using grid search:\\n',\n",
    "      best_model.get_params())\n",
    "\n",
    "# feature_importance = grid_search.best_estimator_.feature_importances_\n",
    "# print('\\nThe importance of each feature of model:',\n",
    "#           *sorted(zip(feature_importance, features), reverse=True), sep='\\n')"
   ],
   "metadata": {
    "pycharm": {
     "name": "#%%\n"
    },
    "colab": {
     "base_uri": "https://localhost:8080/"
    },
    "id": "ukNSfU34n3Xw",
    "outputId": "9cddab96-24ce-45d5-a1dc-be429e8b22d2"
   }
  }
 ],
 "metadata": {
  "kernelspec": {
   "display_name": "Python 3",
   "language": "python",
   "name": "python3"
  },
  "language_info": {
   "codemirror_mode": {
    "name": "ipython",
    "version": 2
   },
   "file_extension": ".py",
   "mimetype": "text/x-python",
   "name": "python",
   "nbconvert_exporter": "python",
   "pygments_lexer": "ipython2",
   "version": "2.7.6"
  },
  "colab": {
   "provenance": []
  }
 },
 "nbformat": 4,
 "nbformat_minor": 0
}