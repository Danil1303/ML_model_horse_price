{
 "cells": [
  {
   "cell_type": "code",
   "execution_count": 146,
   "metadata": {
    "pycharm": {
     "name": "#%%\n"
    },
    "colab": {
     "base_uri": "https://localhost:8080/",
     "height": 73
    },
    "id": "tPNhr0eOn3Xs",
    "outputId": "786c5b7a-2e3d-4f38-c210-f46327533994"
   },
   "outputs": [],
   "source": [
    "import os\n",
    "import numpy as np\n",
    "import pandas as pd\n",
    "from pathlib import Path\n",
    "from sklearn.metrics import mean_squared_error\n",
    "from sklearn.preprocessing import MinMaxScaler\n",
    "from sklearn.ensemble import RandomForestRegressor\n",
    "from sklearn.model_selection import StratifiedKFold, GridSearchCV, RandomizedSearchCV, train_test_split"
   ]
  },
  {
   "cell_type": "code",
   "execution_count": 147,
   "outputs": [
    {
     "name": "stdout",
     "output_type": "stream",
     "text": [
      "Correlation coefficients of survival from other features:\n",
      " Height                      0.344395\n",
      "Breed_Ганноверская          0.230652\n",
      "Breed_Тракененская          0.138509\n",
      "Breed_Русская спортивная    0.108535\n",
      "Breed_Андалузская           0.082814\n",
      "                              ...   \n",
      "Breed_Помесь пони          -0.098204\n",
      "Color_Пегой                -0.107989\n",
      "Breed_Аппалуза             -0.109158\n",
      "Breed_Русский рысак        -0.114462\n",
      "Breed_Шетлендский пони     -0.212490\n",
      "Name: Price, Length: 73, dtype: float64\n"
     ]
    }
   ],
   "source": [
    "df = pd.read_csv(str(Path(os.path.abspath(os.curdir)).parent) + '/data/total_data.csv')\n",
    "\n",
    "df = df[df.Price < 1300000]\n",
    "\n",
    "scaling_params = ['Age', 'Height']\n",
    "features = df[scaling_params]\n",
    "scaler = MinMaxScaler()\n",
    "features = scaler.fit_transform(features.values)\n",
    "df[scaling_params] = features\n",
    "\n",
    "df = pd.get_dummies(df, columns=['Sex', 'Color', 'Breed'])\n",
    "\n",
    "train, test = train_test_split(df, test_size=0.2, random_state=42)\n",
    "\n",
    "corr_matrix = train.corr()\n",
    "print('Correlation coefficients of survival from other features:\\n',\n",
    "      corr_matrix['Price'].sort_values(ascending=False)[1:])\n",
    "\n",
    "x_train = train.drop('Price', axis=1)\n",
    "y_train = train['Price']\n",
    "\n",
    "x_test = test.drop('Price', axis=1)\n",
    "y_test = test['Price']"
   ],
   "metadata": {
    "pycharm": {
     "name": "#%%\n"
    },
    "colab": {
     "base_uri": "https://localhost:8080/"
    },
    "id": "XsTXKg-An3Xu",
    "outputId": "2b18bd2b-80fe-4c1b-f2b3-c7246e39fcbc"
   }
  },
  {
   "cell_type": "code",
   "execution_count": 174,
   "outputs": [
    {
     "ename": "OverflowError",
     "evalue": "Python int too large to convert to C long",
     "output_type": "error",
     "traceback": [
      "\u001B[1;31m---------------------------------------------------------------------------\u001B[0m",
      "\u001B[1;31mOverflowError\u001B[0m                             Traceback (most recent call last)",
      "Cell \u001B[1;32mIn[174], line 45\u001B[0m\n\u001B[0;32m     19\u001B[0m random_search_params \u001B[38;5;241m=\u001B[39m {\n\u001B[0;32m     20\u001B[0m     \u001B[38;5;66;03m# 'bootstrap': [True, False],\u001B[39;00m\n\u001B[0;32m     21\u001B[0m     \u001B[38;5;124m'\u001B[39m\u001B[38;5;124mccp_alpha\u001B[39m\u001B[38;5;124m'\u001B[39m: \u001B[38;5;28mlist\u001B[39m(np\u001B[38;5;241m.\u001B[39marange(\u001B[38;5;241m0\u001B[39m, \u001B[38;5;241m100\u001B[39m, \u001B[38;5;241m1\u001B[39m)),\n\u001B[1;32m   (...)\u001B[0m\n\u001B[0;32m     32\u001B[0m     \u001B[38;5;124m'\u001B[39m\u001B[38;5;124moob_score\u001B[39m\u001B[38;5;124m'\u001B[39m: [\u001B[38;5;28;01mTrue\u001B[39;00m, \u001B[38;5;28;01mFalse\u001B[39;00m]\n\u001B[0;32m     33\u001B[0m }\n\u001B[0;32m     35\u001B[0m random_search \u001B[38;5;241m=\u001B[39m RandomizedSearchCV(\n\u001B[0;32m     36\u001B[0m     estimator\u001B[38;5;241m=\u001B[39mrfr,\n\u001B[0;32m     37\u001B[0m     param_distributions\u001B[38;5;241m=\u001B[39mrandom_search_params,\n\u001B[1;32m   (...)\u001B[0m\n\u001B[0;32m     42\u001B[0m     random_state\u001B[38;5;241m=\u001B[39m\u001B[38;5;241m42\u001B[39m\n\u001B[0;32m     43\u001B[0m )\n\u001B[1;32m---> 45\u001B[0m \u001B[43mrandom_search\u001B[49m\u001B[38;5;241;43m.\u001B[39;49m\u001B[43mfit\u001B[49m\u001B[43m(\u001B[49m\u001B[43mx_train\u001B[49m\u001B[43m,\u001B[49m\u001B[43m \u001B[49m\u001B[43my_train\u001B[49m\u001B[43m)\u001B[49m\n\u001B[0;32m     47\u001B[0m predictions \u001B[38;5;241m=\u001B[39m random_search\u001B[38;5;241m.\u001B[39mpredict(x_test)\n\u001B[0;32m     48\u001B[0m random_search_rmse \u001B[38;5;241m=\u001B[39m np\u001B[38;5;241m.\u001B[39msqrt(mean_squared_error(y_test, predictions))\n",
      "File \u001B[1;32mC:\\code\\ML_model_horse_price\\venv\\lib\\site-packages\\sklearn\\base.py:1152\u001B[0m, in \u001B[0;36m_fit_context.<locals>.decorator.<locals>.wrapper\u001B[1;34m(estimator, *args, **kwargs)\u001B[0m\n\u001B[0;32m   1145\u001B[0m     estimator\u001B[38;5;241m.\u001B[39m_validate_params()\n\u001B[0;32m   1147\u001B[0m \u001B[38;5;28;01mwith\u001B[39;00m config_context(\n\u001B[0;32m   1148\u001B[0m     skip_parameter_validation\u001B[38;5;241m=\u001B[39m(\n\u001B[0;32m   1149\u001B[0m         prefer_skip_nested_validation \u001B[38;5;129;01mor\u001B[39;00m global_skip_validation\n\u001B[0;32m   1150\u001B[0m     )\n\u001B[0;32m   1151\u001B[0m ):\n\u001B[1;32m-> 1152\u001B[0m     \u001B[38;5;28;01mreturn\u001B[39;00m fit_method(estimator, \u001B[38;5;241m*\u001B[39margs, \u001B[38;5;241m*\u001B[39m\u001B[38;5;241m*\u001B[39mkwargs)\n",
      "File \u001B[1;32mC:\\code\\ML_model_horse_price\\venv\\lib\\site-packages\\sklearn\\model_selection\\_search.py:898\u001B[0m, in \u001B[0;36mBaseSearchCV.fit\u001B[1;34m(self, X, y, groups, **fit_params)\u001B[0m\n\u001B[0;32m    892\u001B[0m     results \u001B[38;5;241m=\u001B[39m \u001B[38;5;28mself\u001B[39m\u001B[38;5;241m.\u001B[39m_format_results(\n\u001B[0;32m    893\u001B[0m         all_candidate_params, n_splits, all_out, all_more_results\n\u001B[0;32m    894\u001B[0m     )\n\u001B[0;32m    896\u001B[0m     \u001B[38;5;28;01mreturn\u001B[39;00m results\n\u001B[1;32m--> 898\u001B[0m \u001B[38;5;28;43mself\u001B[39;49m\u001B[38;5;241;43m.\u001B[39;49m\u001B[43m_run_search\u001B[49m\u001B[43m(\u001B[49m\u001B[43mevaluate_candidates\u001B[49m\u001B[43m)\u001B[49m\n\u001B[0;32m    900\u001B[0m \u001B[38;5;66;03m# multimetric is determined here because in the case of a callable\u001B[39;00m\n\u001B[0;32m    901\u001B[0m \u001B[38;5;66;03m# self.scoring the return type is only known after calling\u001B[39;00m\n\u001B[0;32m    902\u001B[0m first_test_score \u001B[38;5;241m=\u001B[39m all_out[\u001B[38;5;241m0\u001B[39m][\u001B[38;5;124m\"\u001B[39m\u001B[38;5;124mtest_scores\u001B[39m\u001B[38;5;124m\"\u001B[39m]\n",
      "File \u001B[1;32mC:\\code\\ML_model_horse_price\\venv\\lib\\site-packages\\sklearn\\model_selection\\_search.py:1809\u001B[0m, in \u001B[0;36mRandomizedSearchCV._run_search\u001B[1;34m(self, evaluate_candidates)\u001B[0m\n\u001B[0;32m   1807\u001B[0m \u001B[38;5;28;01mdef\u001B[39;00m \u001B[38;5;21m_run_search\u001B[39m(\u001B[38;5;28mself\u001B[39m, evaluate_candidates):\n\u001B[0;32m   1808\u001B[0m \u001B[38;5;250m    \u001B[39m\u001B[38;5;124;03m\"\"\"Search n_iter candidates from param_distributions\"\"\"\u001B[39;00m\n\u001B[1;32m-> 1809\u001B[0m     \u001B[43mevaluate_candidates\u001B[49m\u001B[43m(\u001B[49m\n\u001B[0;32m   1810\u001B[0m \u001B[43m        \u001B[49m\u001B[43mParameterSampler\u001B[49m\u001B[43m(\u001B[49m\n\u001B[0;32m   1811\u001B[0m \u001B[43m            \u001B[49m\u001B[38;5;28;43mself\u001B[39;49m\u001B[38;5;241;43m.\u001B[39;49m\u001B[43mparam_distributions\u001B[49m\u001B[43m,\u001B[49m\u001B[43m \u001B[49m\u001B[38;5;28;43mself\u001B[39;49m\u001B[38;5;241;43m.\u001B[39;49m\u001B[43mn_iter\u001B[49m\u001B[43m,\u001B[49m\u001B[43m \u001B[49m\u001B[43mrandom_state\u001B[49m\u001B[38;5;241;43m=\u001B[39;49m\u001B[38;5;28;43mself\u001B[39;49m\u001B[38;5;241;43m.\u001B[39;49m\u001B[43mrandom_state\u001B[49m\n\u001B[0;32m   1812\u001B[0m \u001B[43m        \u001B[49m\u001B[43m)\u001B[49m\n\u001B[0;32m   1813\u001B[0m \u001B[43m    \u001B[49m\u001B[43m)\u001B[49m\n",
      "File \u001B[1;32mC:\\code\\ML_model_horse_price\\venv\\lib\\site-packages\\sklearn\\model_selection\\_search.py:834\u001B[0m, in \u001B[0;36mBaseSearchCV.fit.<locals>.evaluate_candidates\u001B[1;34m(candidate_params, cv, more_results)\u001B[0m\n\u001B[0;32m    832\u001B[0m \u001B[38;5;28;01mdef\u001B[39;00m \u001B[38;5;21mevaluate_candidates\u001B[39m(candidate_params, cv\u001B[38;5;241m=\u001B[39m\u001B[38;5;28;01mNone\u001B[39;00m, more_results\u001B[38;5;241m=\u001B[39m\u001B[38;5;28;01mNone\u001B[39;00m):\n\u001B[0;32m    833\u001B[0m     cv \u001B[38;5;241m=\u001B[39m cv \u001B[38;5;129;01mor\u001B[39;00m cv_orig\n\u001B[1;32m--> 834\u001B[0m     candidate_params \u001B[38;5;241m=\u001B[39m \u001B[38;5;28;43mlist\u001B[39;49m\u001B[43m(\u001B[49m\u001B[43mcandidate_params\u001B[49m\u001B[43m)\u001B[49m\n\u001B[0;32m    835\u001B[0m     n_candidates \u001B[38;5;241m=\u001B[39m \u001B[38;5;28mlen\u001B[39m(candidate_params)\n\u001B[0;32m    837\u001B[0m     \u001B[38;5;28;01mif\u001B[39;00m \u001B[38;5;28mself\u001B[39m\u001B[38;5;241m.\u001B[39mverbose \u001B[38;5;241m>\u001B[39m \u001B[38;5;241m0\u001B[39m:\n",
      "File \u001B[1;32mC:\\code\\ML_model_horse_price\\venv\\lib\\site-packages\\sklearn\\model_selection\\_search.py:314\u001B[0m, in \u001B[0;36mParameterSampler.__iter__\u001B[1;34m(self)\u001B[0m\n\u001B[0;32m    307\u001B[0m         warnings\u001B[38;5;241m.\u001B[39mwarn(\n\u001B[0;32m    308\u001B[0m             \u001B[38;5;124m\"\u001B[39m\u001B[38;5;124mThe total space of parameters \u001B[39m\u001B[38;5;132;01m%d\u001B[39;00m\u001B[38;5;124m is smaller \u001B[39m\u001B[38;5;124m\"\u001B[39m\n\u001B[0;32m    309\u001B[0m             \u001B[38;5;124m\"\u001B[39m\u001B[38;5;124mthan n_iter=\u001B[39m\u001B[38;5;132;01m%d\u001B[39;00m\u001B[38;5;124m. Running \u001B[39m\u001B[38;5;132;01m%d\u001B[39;00m\u001B[38;5;124m iterations. For exhaustive \u001B[39m\u001B[38;5;124m\"\u001B[39m\n\u001B[0;32m    310\u001B[0m             \u001B[38;5;124m\"\u001B[39m\u001B[38;5;124msearches, use GridSearchCV.\u001B[39m\u001B[38;5;124m\"\u001B[39m \u001B[38;5;241m%\u001B[39m (grid_size, \u001B[38;5;28mself\u001B[39m\u001B[38;5;241m.\u001B[39mn_iter, grid_size),\n\u001B[0;32m    311\u001B[0m             \u001B[38;5;167;01mUserWarning\u001B[39;00m,\n\u001B[0;32m    312\u001B[0m         )\n\u001B[0;32m    313\u001B[0m         n_iter \u001B[38;5;241m=\u001B[39m grid_size\n\u001B[1;32m--> 314\u001B[0m     \u001B[38;5;28;01mfor\u001B[39;00m i \u001B[38;5;129;01min\u001B[39;00m \u001B[43msample_without_replacement\u001B[49m\u001B[43m(\u001B[49m\u001B[43mgrid_size\u001B[49m\u001B[43m,\u001B[49m\u001B[43m \u001B[49m\u001B[43mn_iter\u001B[49m\u001B[43m,\u001B[49m\u001B[43m \u001B[49m\u001B[43mrandom_state\u001B[49m\u001B[38;5;241;43m=\u001B[39;49m\u001B[43mrng\u001B[49m\u001B[43m)\u001B[49m:\n\u001B[0;32m    315\u001B[0m         \u001B[38;5;28;01myield\u001B[39;00m param_grid[i]\n\u001B[0;32m    317\u001B[0m \u001B[38;5;28;01melse\u001B[39;00m:\n",
      "File \u001B[1;32msklearn\\utils\\_random.pyx:216\u001B[0m, in \u001B[0;36msklearn.utils._random.sample_without_replacement\u001B[1;34m()\u001B[0m\n",
      "\u001B[1;31mOverflowError\u001B[0m: Python int too large to convert to C long"
     ]
    }
   ],
   "source": [
    "features = list(x_train)\n",
    "rfr = RandomForestRegressor(\n",
    "    # bootstrap=True,\n",
    "    # ccp_alpha= 0,\n",
    "    # criterion= 'squared_error',\n",
    "    # max_depth= None,\n",
    "    # max_features= 1,\n",
    "    # max_leaf_nodes=None,\n",
    "    # max_samples=None,\n",
    "    # min_impurity_decrease=0,\n",
    "    # min_samples_leaf= 1,\n",
    "    # min_samples_split= 2,\n",
    "    # min_weight_fraction_leaf= 0,\n",
    "    # n_estimators= 100,\n",
    "    # oob_score=False,\n",
    "    random_state=42\n",
    ")\n",
    "\n",
    "random_search_params = {\n",
    "    # 'bootstrap': [True, False],\n",
    "    # 'ccp_alpha': list(np.arange(0, 100, 1)),\n",
    "    'criterion': ['squared_error', 'absolute_error', 'friedman_mse', 'poisson'],\n",
    "    'max_depth': list(np.arange(5, 40, 2)),\n",
    "    'max_features': list(np.arange(1, len(features) + 1)),\n",
    "    # 'max_leaf_nodes': list(np.arange(2, 10)),\n",
    "    # 'max_samples': list(np.arange(1, 20)),\n",
    "    'min_impurity_decrease':list(np.arange(1, 9)),\n",
    "    'min_samples_leaf': list(np.arange(1, 6)),\n",
    "    'min_samples_split': list(np.arange(2, 10)),\n",
    "    'min_weight_fraction_leaf': list(np.arange(0.0, 0.6, 0.1)),\n",
    "    'n_estimators': list(np.arange(1, 1000, 10)),\n",
    "    'oob_score': [True, False]\n",
    "}\n",
    "\n",
    "random_search = RandomizedSearchCV(\n",
    "    estimator=rfr,\n",
    "    param_distributions=random_search_params,\n",
    "    n_iter=50,\n",
    "    n_jobs=-2,\n",
    "    refit=True,\n",
    "    cv=StratifiedKFold(5),\n",
    "    random_state=42\n",
    ")\n",
    "\n",
    "random_search.fit(x_train, y_train)\n",
    "\n",
    "predictions = random_search.predict(x_test)\n",
    "random_search_rmse = np.sqrt(mean_squared_error(y_test, predictions))\n",
    "print('RMSE случайного поиска: ', random_search_rmse)"
   ],
   "metadata": {
    "pycharm": {
     "name": "#%%\n"
    },
    "colab": {
     "base_uri": "https://localhost:8080/"
    },
    "id": "1nR7SV4In3Xv",
    "outputId": "3665f811-7787-4973-9458-98c83223cc1c"
   }
  },
  {
   "cell_type": "code",
   "execution_count": 149,
   "outputs": [
    {
     "data": {
      "text/plain": "    mean_fit_time  std_fit_time  mean_score_time  std_score_time  \\\n0        3.381694      0.093231         0.082332        0.003979   \n1        2.006400      0.041215         0.050215        0.002994   \n2        0.595684      0.002631         0.027020        0.002299   \n3        1.251862      0.020114         0.051813        0.001167   \n4        0.869958      0.008114         0.033810        0.003658   \n5        1.228217      0.106913         0.031808        0.001834   \n6        2.696630      0.148376         0.066920        0.007082   \n7        1.357199      0.038312         0.038412        0.006019   \n8        0.838761      0.026290         0.023806        0.001720   \n9        1.013607      0.027025         0.041404        0.003321   \n10       1.106973      0.062095         0.030408        0.002729   \n11       1.204832      0.283060         0.052213        0.014471   \n12       1.618339      0.021175         0.067415        0.004224   \n13       0.528763      0.018011         0.016604        0.001360   \n14       0.427107      0.031425         0.018605        0.005715   \n15       1.576901      0.208630         0.032408        0.004455   \n16       1.571170      0.034053         0.042227        0.004631   \n17       0.592180      0.016761         0.023205        0.003312   \n18       0.501044      0.006826         0.021805        0.001327   \n19       1.262374      0.055776         0.034218        0.008676   \n\n   param_oob_score param_n_estimators param_min_weight_fraction_leaf  \\\n0             True                955                            0.0   \n1             True                583                            0.1   \n2            False                299                            0.0   \n3            False                615                            0.1   \n4            False                415                            0.1   \n5             True                329                            0.1   \n6             True                801                            0.1   \n7             True                423                            0.0   \n8             True                277                            0.0   \n9            False                577                            0.3   \n10            True                379                            0.1   \n11           False                409                            0.1   \n12           False                919                            0.0   \n13            True                179                            0.0   \n14           False                183                            0.3   \n15            True                415                            0.4   \n16            True                491                            0.1   \n17           False                303                            0.1   \n18           False                287                            0.2   \n19            True                383                            0.4   \n\n   param_min_samples_split param_max_samples param_max_features  \\\n0                        4                 9                 47   \n1                        2                 9                 50   \n2                        2                 9                 30   \n3                        2                 8                 49   \n4                        6                 8                 58   \n5                        3                 6                 73   \n6                        8                 9                 57   \n7                        2                 7                 54   \n8                        2                 9                 14   \n9                        7                 8                 73   \n10                       3                 9                 18   \n11                       2                 6                 33   \n12                       2                 7                 25   \n13                       4                 9                 19   \n14                       7                 9                 58   \n15                       5                 7                 72   \n16                       5                 6                 45   \n17                       7                 8                 34   \n18                       5                 7                 56   \n19                       8                 9                 67   \n\n   param_max_depth  split0_test_score  split1_test_score  split2_test_score  \\\n0                9           0.101559           0.098467           0.134002   \n1                9           0.103410           0.094986           0.129437   \n2               30           0.094938           0.091386           0.128043   \n3               31           0.099523           0.093034           0.126840   \n4               21           0.092495           0.082546           0.112893   \n5               17           0.083325           0.086134           0.131108   \n6               20           0.089419           0.087905           0.116509   \n7               31           0.087142           0.071590           0.116683   \n8               18           0.081938           0.078617           0.101294   \n9               23           0.081793           0.065794           0.121536   \n10              26           0.086631           0.066078           0.090293   \n11              36           0.082465           0.074403           0.107793   \n12              33           0.083108           0.070829           0.100994   \n13               7           0.071459           0.073965           0.097044   \n14              34           0.075545           0.062440           0.122441   \n15              29           0.079956           0.055553           0.111226   \n16              28           0.070976           0.079620           0.098120   \n17               6           0.074899           0.073708           0.098616   \n18              29           0.073788           0.068598           0.107323   \n19               6           0.079481           0.057747           0.113422   \n\n    split3_test_score  split4_test_score  mean_test_score  std_test_score  \\\n0            0.109919           0.150410         0.118872        0.020099   \n1            0.110033           0.155962         0.118766        0.021795   \n2            0.122152           0.135408         0.114386        0.017866   \n3            0.114719           0.131012         0.113026        0.014827   \n4            0.094328           0.144847         0.105422        0.022017   \n5            0.095297           0.127417         0.104656        0.020511   \n6            0.092754           0.133170         0.103951        0.017919   \n7            0.103066           0.134786         0.102654        0.022068   \n8            0.116483           0.132789         0.102224        0.020529   \n9            0.094789           0.112721         0.095327        0.020224   \n10           0.107065           0.121544         0.094322        0.018850   \n11           0.096303           0.109917         0.094176        0.013899   \n12           0.096711           0.115804         0.093489        0.015401   \n13           0.107671           0.115963         0.093220        0.017804   \n14           0.090787           0.109940         0.092231        0.021883   \n15           0.095521           0.110325         0.090516        0.020882   \n16           0.086710           0.109376         0.088960        0.013539   \n17           0.090956           0.105686         0.088773        0.012705   \n18           0.085086           0.109047         0.088769        0.016735   \n19           0.084997           0.101014         0.087332        0.019028   \n\n    rank_test_score  \n0                 1  \n1                 2  \n2                 3  \n3                 4  \n4                 5  \n5                 6  \n6                 7  \n7                 8  \n8                 9  \n9                10  \n10               11  \n11               12  \n12               13  \n13               14  \n14               15  \n15               16  \n16               17  \n17               18  \n18               19  \n19               20  ",
      "text/html": "<div>\n<style scoped>\n    .dataframe tbody tr th:only-of-type {\n        vertical-align: middle;\n    }\n\n    .dataframe tbody tr th {\n        vertical-align: top;\n    }\n\n    .dataframe thead th {\n        text-align: right;\n    }\n</style>\n<table border=\"1\" class=\"dataframe\">\n  <thead>\n    <tr style=\"text-align: right;\">\n      <th></th>\n      <th>mean_fit_time</th>\n      <th>std_fit_time</th>\n      <th>mean_score_time</th>\n      <th>std_score_time</th>\n      <th>param_oob_score</th>\n      <th>param_n_estimators</th>\n      <th>param_min_weight_fraction_leaf</th>\n      <th>param_min_samples_split</th>\n      <th>param_max_samples</th>\n      <th>param_max_features</th>\n      <th>param_max_depth</th>\n      <th>split0_test_score</th>\n      <th>split1_test_score</th>\n      <th>split2_test_score</th>\n      <th>split3_test_score</th>\n      <th>split4_test_score</th>\n      <th>mean_test_score</th>\n      <th>std_test_score</th>\n      <th>rank_test_score</th>\n    </tr>\n  </thead>\n  <tbody>\n    <tr>\n      <th>0</th>\n      <td>3.381694</td>\n      <td>0.093231</td>\n      <td>0.082332</td>\n      <td>0.003979</td>\n      <td>True</td>\n      <td>955</td>\n      <td>0.0</td>\n      <td>4</td>\n      <td>9</td>\n      <td>47</td>\n      <td>9</td>\n      <td>0.101559</td>\n      <td>0.098467</td>\n      <td>0.134002</td>\n      <td>0.109919</td>\n      <td>0.150410</td>\n      <td>0.118872</td>\n      <td>0.020099</td>\n      <td>1</td>\n    </tr>\n    <tr>\n      <th>1</th>\n      <td>2.006400</td>\n      <td>0.041215</td>\n      <td>0.050215</td>\n      <td>0.002994</td>\n      <td>True</td>\n      <td>583</td>\n      <td>0.1</td>\n      <td>2</td>\n      <td>9</td>\n      <td>50</td>\n      <td>9</td>\n      <td>0.103410</td>\n      <td>0.094986</td>\n      <td>0.129437</td>\n      <td>0.110033</td>\n      <td>0.155962</td>\n      <td>0.118766</td>\n      <td>0.021795</td>\n      <td>2</td>\n    </tr>\n    <tr>\n      <th>2</th>\n      <td>0.595684</td>\n      <td>0.002631</td>\n      <td>0.027020</td>\n      <td>0.002299</td>\n      <td>False</td>\n      <td>299</td>\n      <td>0.0</td>\n      <td>2</td>\n      <td>9</td>\n      <td>30</td>\n      <td>30</td>\n      <td>0.094938</td>\n      <td>0.091386</td>\n      <td>0.128043</td>\n      <td>0.122152</td>\n      <td>0.135408</td>\n      <td>0.114386</td>\n      <td>0.017866</td>\n      <td>3</td>\n    </tr>\n    <tr>\n      <th>3</th>\n      <td>1.251862</td>\n      <td>0.020114</td>\n      <td>0.051813</td>\n      <td>0.001167</td>\n      <td>False</td>\n      <td>615</td>\n      <td>0.1</td>\n      <td>2</td>\n      <td>8</td>\n      <td>49</td>\n      <td>31</td>\n      <td>0.099523</td>\n      <td>0.093034</td>\n      <td>0.126840</td>\n      <td>0.114719</td>\n      <td>0.131012</td>\n      <td>0.113026</td>\n      <td>0.014827</td>\n      <td>4</td>\n    </tr>\n    <tr>\n      <th>4</th>\n      <td>0.869958</td>\n      <td>0.008114</td>\n      <td>0.033810</td>\n      <td>0.003658</td>\n      <td>False</td>\n      <td>415</td>\n      <td>0.1</td>\n      <td>6</td>\n      <td>8</td>\n      <td>58</td>\n      <td>21</td>\n      <td>0.092495</td>\n      <td>0.082546</td>\n      <td>0.112893</td>\n      <td>0.094328</td>\n      <td>0.144847</td>\n      <td>0.105422</td>\n      <td>0.022017</td>\n      <td>5</td>\n    </tr>\n    <tr>\n      <th>5</th>\n      <td>1.228217</td>\n      <td>0.106913</td>\n      <td>0.031808</td>\n      <td>0.001834</td>\n      <td>True</td>\n      <td>329</td>\n      <td>0.1</td>\n      <td>3</td>\n      <td>6</td>\n      <td>73</td>\n      <td>17</td>\n      <td>0.083325</td>\n      <td>0.086134</td>\n      <td>0.131108</td>\n      <td>0.095297</td>\n      <td>0.127417</td>\n      <td>0.104656</td>\n      <td>0.020511</td>\n      <td>6</td>\n    </tr>\n    <tr>\n      <th>6</th>\n      <td>2.696630</td>\n      <td>0.148376</td>\n      <td>0.066920</td>\n      <td>0.007082</td>\n      <td>True</td>\n      <td>801</td>\n      <td>0.1</td>\n      <td>8</td>\n      <td>9</td>\n      <td>57</td>\n      <td>20</td>\n      <td>0.089419</td>\n      <td>0.087905</td>\n      <td>0.116509</td>\n      <td>0.092754</td>\n      <td>0.133170</td>\n      <td>0.103951</td>\n      <td>0.017919</td>\n      <td>7</td>\n    </tr>\n    <tr>\n      <th>7</th>\n      <td>1.357199</td>\n      <td>0.038312</td>\n      <td>0.038412</td>\n      <td>0.006019</td>\n      <td>True</td>\n      <td>423</td>\n      <td>0.0</td>\n      <td>2</td>\n      <td>7</td>\n      <td>54</td>\n      <td>31</td>\n      <td>0.087142</td>\n      <td>0.071590</td>\n      <td>0.116683</td>\n      <td>0.103066</td>\n      <td>0.134786</td>\n      <td>0.102654</td>\n      <td>0.022068</td>\n      <td>8</td>\n    </tr>\n    <tr>\n      <th>8</th>\n      <td>0.838761</td>\n      <td>0.026290</td>\n      <td>0.023806</td>\n      <td>0.001720</td>\n      <td>True</td>\n      <td>277</td>\n      <td>0.0</td>\n      <td>2</td>\n      <td>9</td>\n      <td>14</td>\n      <td>18</td>\n      <td>0.081938</td>\n      <td>0.078617</td>\n      <td>0.101294</td>\n      <td>0.116483</td>\n      <td>0.132789</td>\n      <td>0.102224</td>\n      <td>0.020529</td>\n      <td>9</td>\n    </tr>\n    <tr>\n      <th>9</th>\n      <td>1.013607</td>\n      <td>0.027025</td>\n      <td>0.041404</td>\n      <td>0.003321</td>\n      <td>False</td>\n      <td>577</td>\n      <td>0.3</td>\n      <td>7</td>\n      <td>8</td>\n      <td>73</td>\n      <td>23</td>\n      <td>0.081793</td>\n      <td>0.065794</td>\n      <td>0.121536</td>\n      <td>0.094789</td>\n      <td>0.112721</td>\n      <td>0.095327</td>\n      <td>0.020224</td>\n      <td>10</td>\n    </tr>\n    <tr>\n      <th>10</th>\n      <td>1.106973</td>\n      <td>0.062095</td>\n      <td>0.030408</td>\n      <td>0.002729</td>\n      <td>True</td>\n      <td>379</td>\n      <td>0.1</td>\n      <td>3</td>\n      <td>9</td>\n      <td>18</td>\n      <td>26</td>\n      <td>0.086631</td>\n      <td>0.066078</td>\n      <td>0.090293</td>\n      <td>0.107065</td>\n      <td>0.121544</td>\n      <td>0.094322</td>\n      <td>0.018850</td>\n      <td>11</td>\n    </tr>\n    <tr>\n      <th>11</th>\n      <td>1.204832</td>\n      <td>0.283060</td>\n      <td>0.052213</td>\n      <td>0.014471</td>\n      <td>False</td>\n      <td>409</td>\n      <td>0.1</td>\n      <td>2</td>\n      <td>6</td>\n      <td>33</td>\n      <td>36</td>\n      <td>0.082465</td>\n      <td>0.074403</td>\n      <td>0.107793</td>\n      <td>0.096303</td>\n      <td>0.109917</td>\n      <td>0.094176</td>\n      <td>0.013899</td>\n      <td>12</td>\n    </tr>\n    <tr>\n      <th>12</th>\n      <td>1.618339</td>\n      <td>0.021175</td>\n      <td>0.067415</td>\n      <td>0.004224</td>\n      <td>False</td>\n      <td>919</td>\n      <td>0.0</td>\n      <td>2</td>\n      <td>7</td>\n      <td>25</td>\n      <td>33</td>\n      <td>0.083108</td>\n      <td>0.070829</td>\n      <td>0.100994</td>\n      <td>0.096711</td>\n      <td>0.115804</td>\n      <td>0.093489</td>\n      <td>0.015401</td>\n      <td>13</td>\n    </tr>\n    <tr>\n      <th>13</th>\n      <td>0.528763</td>\n      <td>0.018011</td>\n      <td>0.016604</td>\n      <td>0.001360</td>\n      <td>True</td>\n      <td>179</td>\n      <td>0.0</td>\n      <td>4</td>\n      <td>9</td>\n      <td>19</td>\n      <td>7</td>\n      <td>0.071459</td>\n      <td>0.073965</td>\n      <td>0.097044</td>\n      <td>0.107671</td>\n      <td>0.115963</td>\n      <td>0.093220</td>\n      <td>0.017804</td>\n      <td>14</td>\n    </tr>\n    <tr>\n      <th>14</th>\n      <td>0.427107</td>\n      <td>0.031425</td>\n      <td>0.018605</td>\n      <td>0.005715</td>\n      <td>False</td>\n      <td>183</td>\n      <td>0.3</td>\n      <td>7</td>\n      <td>9</td>\n      <td>58</td>\n      <td>34</td>\n      <td>0.075545</td>\n      <td>0.062440</td>\n      <td>0.122441</td>\n      <td>0.090787</td>\n      <td>0.109940</td>\n      <td>0.092231</td>\n      <td>0.021883</td>\n      <td>15</td>\n    </tr>\n    <tr>\n      <th>15</th>\n      <td>1.576901</td>\n      <td>0.208630</td>\n      <td>0.032408</td>\n      <td>0.004455</td>\n      <td>True</td>\n      <td>415</td>\n      <td>0.4</td>\n      <td>5</td>\n      <td>7</td>\n      <td>72</td>\n      <td>29</td>\n      <td>0.079956</td>\n      <td>0.055553</td>\n      <td>0.111226</td>\n      <td>0.095521</td>\n      <td>0.110325</td>\n      <td>0.090516</td>\n      <td>0.020882</td>\n      <td>16</td>\n    </tr>\n    <tr>\n      <th>16</th>\n      <td>1.571170</td>\n      <td>0.034053</td>\n      <td>0.042227</td>\n      <td>0.004631</td>\n      <td>True</td>\n      <td>491</td>\n      <td>0.1</td>\n      <td>5</td>\n      <td>6</td>\n      <td>45</td>\n      <td>28</td>\n      <td>0.070976</td>\n      <td>0.079620</td>\n      <td>0.098120</td>\n      <td>0.086710</td>\n      <td>0.109376</td>\n      <td>0.088960</td>\n      <td>0.013539</td>\n      <td>17</td>\n    </tr>\n    <tr>\n      <th>17</th>\n      <td>0.592180</td>\n      <td>0.016761</td>\n      <td>0.023205</td>\n      <td>0.003312</td>\n      <td>False</td>\n      <td>303</td>\n      <td>0.1</td>\n      <td>7</td>\n      <td>8</td>\n      <td>34</td>\n      <td>6</td>\n      <td>0.074899</td>\n      <td>0.073708</td>\n      <td>0.098616</td>\n      <td>0.090956</td>\n      <td>0.105686</td>\n      <td>0.088773</td>\n      <td>0.012705</td>\n      <td>18</td>\n    </tr>\n    <tr>\n      <th>18</th>\n      <td>0.501044</td>\n      <td>0.006826</td>\n      <td>0.021805</td>\n      <td>0.001327</td>\n      <td>False</td>\n      <td>287</td>\n      <td>0.2</td>\n      <td>5</td>\n      <td>7</td>\n      <td>56</td>\n      <td>29</td>\n      <td>0.073788</td>\n      <td>0.068598</td>\n      <td>0.107323</td>\n      <td>0.085086</td>\n      <td>0.109047</td>\n      <td>0.088769</td>\n      <td>0.016735</td>\n      <td>19</td>\n    </tr>\n    <tr>\n      <th>19</th>\n      <td>1.262374</td>\n      <td>0.055776</td>\n      <td>0.034218</td>\n      <td>0.008676</td>\n      <td>True</td>\n      <td>383</td>\n      <td>0.4</td>\n      <td>8</td>\n      <td>9</td>\n      <td>67</td>\n      <td>6</td>\n      <td>0.079481</td>\n      <td>0.057747</td>\n      <td>0.113422</td>\n      <td>0.084997</td>\n      <td>0.101014</td>\n      <td>0.087332</td>\n      <td>0.019028</td>\n      <td>20</td>\n    </tr>\n  </tbody>\n</table>\n</div>"
     },
     "execution_count": 149,
     "metadata": {},
     "output_type": "execute_result"
    }
   ],
   "source": [
    "random_search_parameters = pd.DataFrame(random_search.cv_results_).sort_values('rank_test_score').reset_index(\n",
    "    drop=True)\n",
    "random_search_parameters = random_search_parameters.drop('params', axis=1)\n",
    "random_search_parameters.head(20)"
   ],
   "metadata": {
    "pycharm": {
     "name": "#%%\n"
    },
    "colab": {
     "base_uri": "https://localhost:8080/",
     "height": 81
    },
    "id": "48cpXwhhn3Xv",
    "outputId": "54930fe4-7eb5-43fb-df39-c2ef3930501d"
   }
  },
  {
   "cell_type": "code",
   "execution_count": 152,
   "outputs": [
    {
     "data": {
      "text/plain": "{'max_depth': [None, 9, 21, 30, 31],\n 'max_features': [1, 47, 49, 50, 58, 30],\n 'n_estimators': [100, 583, 615, 299, 955, 415],\n 'oob_score': [False, True]}"
     },
     "execution_count": 152,
     "metadata": {},
     "output_type": "execute_result"
    }
   ],
   "source": [
    "top_models = random_search_parameters.head(5)\n",
    "param_bootstrap = list(set([True] + [top_models['param_bootstrap'].value_counts().idxmax()]))\n",
    "param_ccp_alpha = list(set([0] + [x for x in set(top_models['ccp_alpha'])]))\n",
    "param_criterion = list(set(['squared_error'] + [top_models['param_criterion'].value_counts().idxmax()]))\n",
    "param_max_depth = list(set([None] + [x for x in set(top_models['param_max_depth'])]))\n",
    "param_max_features = list(set([1] + [x for x in set(top_models['param_max_features'])]))\n",
    "param_max_leaf_nodes = [None] + [x for x in set(top_models['param_max_leaf_nodes'])]\n",
    "param_max_samples = [None] + [x for x in set(top_models['param_max_samples'])]\n",
    "param_min_impurity_decrease = list(set([0] + [x for x in set(top_models['param_min_impurity_decrease'])]))\n",
    "param_min_samples_leaf = list(set([1] + [x for x in set(top_models['param_min_samples_leaf'])]))\n",
    "param_min_samples_split = list(set([2] + [x for x in set(top_models['param_min_samples_split'])]))\n",
    "param_min_weight_fraction_leaf = list(set([0] + [x for x in set(top_models['param_min_weight_fraction_leaf'])]))\n",
    "param_n_estimators = list(set([100] + [x for x in set(top_models['param_n_estimators'])]))\n",
    "param_oob_score = list(set([False] + [x for x in set(top_models['param_oob_score'])]))\n",
    "\n",
    "params_grid = {\n",
    "    'bootstrap': param_bootstrap,\n",
    "    'ccp_alpha': param_ccp_alpha,\n",
    "    'criterion': param_criterion,\n",
    "    'max_depth': param_max_depth,\n",
    "    'max_features': param_max_features,\n",
    "    'max_leaf_nodes': param_max_leaf_nodes,\n",
    "    'max_samples': param_max_samples,\n",
    "    'min_impurity_decrease': param_min_impurity_decrease,\n",
    "    'min_samples_leaf': param_min_samples_leaf,\n",
    "    'min_samples_split': param_min_samples_split,\n",
    "    'min_weight_fraction_leaf': param_min_weight_fraction_leaf,\n",
    "    'n_estimators': param_n_estimators,\n",
    "    'oob_score': param_oob_score\n",
    "}\n",
    "\n",
    "params_grid"
   ],
   "metadata": {
    "pycharm": {
     "name": "#%%\n"
    },
    "colab": {
     "base_uri": "https://localhost:8080/"
    },
    "id": "wDWlzXYQn3Xw",
    "outputId": "e5c0b43a-7017-48b3-9f9e-1b66f9b4de39"
   }
  },
  {
   "cell_type": "code",
   "execution_count": 153,
   "outputs": [
    {
     "name": "stderr",
     "output_type": "stream",
     "text": [
      "C:\\code\\ML_model_horse_price\\venv\\lib\\site-packages\\sklearn\\model_selection\\_split.py:737: UserWarning: The least populated class in y has only 1 members, which is less than n_splits=5.\n",
      "  warnings.warn(\n"
     ]
    },
    {
     "name": "stdout",
     "output_type": "stream",
     "text": [
      "RMSE решётчатого поиска:  231486.14753604244\n"
     ]
    }
   ],
   "source": [
    "rfr = RandomForestRegressor(\n",
    "    # bootstrap=True,\n",
    "    # ccp_alpha=0,\n",
    "    # criterion='squared_error',\n",
    "    # max_depth=None,\n",
    "    # max_features=1,\n",
    "    # max_leaf_nodes=None,\n",
    "    # max_samples=None,\n",
    "    # min_impurity_decrease=0,\n",
    "    # min_samples_leaf=1,\n",
    "    # min_samples_split=2,\n",
    "    # min_weight_fraction_leaf=0,\n",
    "    # n_estimators=100,\n",
    "    # oob_score=False,\n",
    "    random_state=42\n",
    ")\n",
    "grid_search = GridSearchCV(\n",
    "    estimator=rfr,\n",
    "    param_grid=params_grid,\n",
    "    n_jobs=-2,\n",
    "    refit=True,\n",
    "    cv=StratifiedKFold(5)\n",
    ")\n",
    "grid_search.fit(x_train, y_train)\n",
    "\n",
    "predictions = grid_search.predict(x_test)\n",
    "grid_search_rmse = np.sqrt(mean_squared_error(y_test, predictions))\n",
    "print('RMSE решётчатого поиска: ', grid_search_rmse)"
   ],
   "metadata": {
    "collapsed": false,
    "pycharm": {
     "name": "#%%\n"
    }
   }
  },
  {
   "cell_type": "code",
   "execution_count": 154,
   "outputs": [
    {
     "name": "stdout",
     "output_type": "stream",
     "text": [
      "RMSE модели:  231486.14753604244\n",
      "The best hyperparameters for DecisionTreeRegressor found using grid search:\n",
      " {'bootstrap': True, 'ccp_alpha': 0.0, 'criterion': 'squared_error', 'max_depth': 9, 'max_features': 30, 'max_leaf_nodes': None, 'max_samples': None, 'min_impurity_decrease': 0.0, 'min_samples_leaf': 1, 'min_samples_split': 2, 'min_weight_fraction_leaf': 0.0, 'n_estimators': 299, 'n_jobs': None, 'oob_score': False, 'random_state': 42, 'verbose': 0, 'warm_start': False}\n"
     ]
    }
   ],
   "source": [
    "best_model = grid_search.best_estimator_\n",
    "train_predictions = best_model.predict(x_test)\n",
    "model_rmse = np.sqrt(mean_squared_error(y_test, train_predictions))\n",
    "print('RMSE модели: ', model_rmse)\n",
    "print('The best hyperparameters for DecisionTreeRegressor found using grid search:\\n',\n",
    "      best_model.get_params())\n",
    "\n",
    "# feature_importance = grid_search.best_estimator_.feature_importances_\n",
    "# print('\\nThe importance of each feature of model:',\n",
    "#           *sorted(zip(feature_importance, features), reverse=True), sep='\\n')"
   ],
   "metadata": {
    "pycharm": {
     "name": "#%%\n"
    },
    "colab": {
     "base_uri": "https://localhost:8080/"
    },
    "id": "ukNSfU34n3Xw",
    "outputId": "9cddab96-24ce-45d5-a1dc-be429e8b22d2"
   }
  }
 ],
 "metadata": {
  "kernelspec": {
   "display_name": "Python 3",
   "language": "python",
   "name": "python3"
  },
  "language_info": {
   "codemirror_mode": {
    "name": "ipython",
    "version": 2
   },
   "file_extension": ".py",
   "mimetype": "text/x-python",
   "name": "python",
   "nbconvert_exporter": "python",
   "pygments_lexer": "ipython2",
   "version": "2.7.6"
  },
  "colab": {
   "provenance": []
  }
 },
 "nbformat": 4,
 "nbformat_minor": 0
}